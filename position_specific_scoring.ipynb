{
 "cells": [
  {
   "cell_type": "code",
   "execution_count": 5,
   "metadata": {},
   "outputs": [
    {
     "name": "stdout",
     "output_type": "stream",
     "text": [
      "The autoreload extension is already loaded. To reload it, use:\n",
      "  %reload_ext autoreload\n"
     ]
    }
   ],
   "source": [
    "%load_ext autoreload\n",
    "%autoreload 2"
   ]
  },
  {
   "cell_type": "code",
   "execution_count": 6,
   "metadata": {},
   "outputs": [],
   "source": [
    "import numpy as np\n",
    "import pandas as pd\n",
    "\n",
    "import utils"
   ]
  },
  {
   "cell_type": "code",
   "execution_count": 7,
   "metadata": {},
   "outputs": [],
   "source": [
    "# Global constants\n",
    "# Using values from the study\n",
    "\n",
    "neighbors_before = 13 \n",
    "neighbors_after = 2"
   ]
  },
  {
   "cell_type": "code",
   "execution_count": 9,
   "metadata": {},
   "outputs": [
    {
     "data": {
      "text/html": [
       "<div>\n",
       "<style scoped>\n",
       "    .dataframe tbody tr th:only-of-type {\n",
       "        vertical-align: middle;\n",
       "    }\n",
       "\n",
       "    .dataframe tbody tr th {\n",
       "        vertical-align: top;\n",
       "    }\n",
       "\n",
       "    .dataframe thead th {\n",
       "        text-align: right;\n",
       "    }\n",
       "</style>\n",
       "<table border=\"1\" class=\"dataframe\">\n",
       "  <thead>\n",
       "    <tr style=\"text-align: right;\">\n",
       "      <th></th>\n",
       "      <th>Amino</th>\n",
       "      <th>String</th>\n",
       "      <th>Mask</th>\n",
       "    </tr>\n",
       "  </thead>\n",
       "  <tbody>\n",
       "    <tr>\n",
       "      <th>0</th>\n",
       "      <td>MASKATLLLAFTLLFATCIARHQQRQQQQNQCQLQNIEALEPIEVI...</td>\n",
       "      <td>50 11S3_HELAN     20 11S GLOBULIN SEED STORAGE...</td>\n",
       "      <td>SSSSSSSSSSSSSSSSSSSSCMMMMMMMMMMMMMMMMMMMMMMMMM...</td>\n",
       "    </tr>\n",
       "    <tr>\n",
       "      <th>1</th>\n",
       "      <td>MARSSLFTFLCLAVFINGCLSQIEQQSPWEFQGSEVWQQHRYQSPR...</td>\n",
       "      <td>51 11SB_CUCMA     21 11S GLOBULIN BETA SUBUNIT...</td>\n",
       "      <td>SSSSSSSSSSSSSSSSSSSSSCMMMMMMMMMMMMMMMMMMMMMMMM...</td>\n",
       "    </tr>\n",
       "    <tr>\n",
       "      <th>2</th>\n",
       "      <td>MLVMAPRTVLLLLSAALALTETWAGSHSMRYFYTSVSRPGRGEPRF...</td>\n",
       "      <td>54 1B39_HUMAN     24 HLA CLASS I HISTOCOMPATIB...</td>\n",
       "      <td>SSSSSSSSSSSSSSSSSSSSSSSSCMMMMMMMMMMMMMMMMMMMMM...</td>\n",
       "    </tr>\n",
       "    <tr>\n",
       "      <th>3</th>\n",
       "      <td>MKLSKSTLVFSALLVILAAASAAPANQFIKTSCTLTTYPAVCEQSL...</td>\n",
       "      <td>52 21KD_DAUCA     22 21 KD PROTEIN PRECURSOR (...</td>\n",
       "      <td>SSSSSSSSSSSSSSSSSSSSSSCMMMMMMMMMMMMMMMMMMMMMMM...</td>\n",
       "    </tr>\n",
       "    <tr>\n",
       "      <th>4</th>\n",
       "      <td>MANKLFLVCATLALCFLLTNASIYRTVVEFEEDDASNPVGPRQRCQ...</td>\n",
       "      <td>51 2SS3_ARATH     21 2S SEED STORAGE PROTEIN 3...</td>\n",
       "      <td>SSSSSSSSSSSSSSSSSSSSSCMMMMMMMMMMMMMMMMMMMMMMMM...</td>\n",
       "    </tr>\n",
       "  </tbody>\n",
       "</table>\n",
       "</div>"
      ],
      "text/plain": [
       "                                               Amino  \\\n",
       "0  MASKATLLLAFTLLFATCIARHQQRQQQQNQCQLQNIEALEPIEVI...   \n",
       "1  MARSSLFTFLCLAVFINGCLSQIEQQSPWEFQGSEVWQQHRYQSPR...   \n",
       "2  MLVMAPRTVLLLLSAALALTETWAGSHSMRYFYTSVSRPGRGEPRF...   \n",
       "3  MKLSKSTLVFSALLVILAAASAAPANQFIKTSCTLTTYPAVCEQSL...   \n",
       "4  MANKLFLVCATLALCFLLTNASIYRTVVEFEEDDASNPVGPRQRCQ...   \n",
       "\n",
       "                                              String  \\\n",
       "0  50 11S3_HELAN     20 11S GLOBULIN SEED STORAGE...   \n",
       "1  51 11SB_CUCMA     21 11S GLOBULIN BETA SUBUNIT...   \n",
       "2  54 1B39_HUMAN     24 HLA CLASS I HISTOCOMPATIB...   \n",
       "3  52 21KD_DAUCA     22 21 KD PROTEIN PRECURSOR (...   \n",
       "4  51 2SS3_ARATH     21 2S SEED STORAGE PROTEIN 3...   \n",
       "\n",
       "                                                Mask  \n",
       "0  SSSSSSSSSSSSSSSSSSSSCMMMMMMMMMMMMMMMMMMMMMMMMM...  \n",
       "1  SSSSSSSSSSSSSSSSSSSSSCMMMMMMMMMMMMMMMMMMMMMMMM...  \n",
       "2  SSSSSSSSSSSSSSSSSSSSSSSSCMMMMMMMMMMMMMMMMMMMMM...  \n",
       "3  SSSSSSSSSSSSSSSSSSSSSSCMMMMMMMMMMMMMMMMMMMMMMM...  \n",
       "4  SSSSSSSSSSSSSSSSSSSSSCMMMMMMMMMMMMMMMMMMMMMMMM...  "
      ]
     },
     "execution_count": 9,
     "metadata": {},
     "output_type": "execute_result"
    }
   ],
   "source": [
    "df = pd.DataFrame()\n",
    "df['Amino'], df['String'], df['Mask'] = utils.get_euksig(str_detailed=True, masked=True)\n",
    "df.head()"
   ]
  },
  {
   "cell_type": "code",
   "execution_count": 19,
   "metadata": {},
   "outputs": [],
   "source": [
    "def amino_acids():\n",
    "    \"\"\"\n",
    "    Returns a list of all amino acids\n",
    "    \"\"\"\n",
    "    return ['A', 'C', 'D', 'E', 'F', 'G', 'H', 'I', 'K', 'L', 'M', 'N', 'P', 'Q', 'R', 'S', 'T', 'V', 'W', 'Y']\n",
    "\n",
    "def map_amino_acids(data=None):\n",
    "    \"\"\"\n",
    "    Map vocabulary to integers\n",
    "    \"\"\"\n",
    "    if data is None:\n",
    "        return {amino: i for i, amino in enumerate(amino_acids)}\n",
    "    return {element: i for i, element in enumerate(data)}\n",
    "\n",
    "def additive_smoothing(matrix, alpha=1):\n",
    "    \"\"\"\n",
    "    Additive smoothing to the matrix\n",
    "    \"\"\"\n",
    "    return matrix + alpha\n",
    "\n",
    "def get_frequency_matrix(dataframe, before, after):\n",
    "    \"\"\"\n",
    "    Get the frequency matrix for a dataframe which is supposed to be in the adequate format\n",
    "    \"\"\"\n",
    "    map_amino = map_amino_acids()\n",
    "\n",
    "    length = len(dataframe)\n",
    "    matrix = np.zeros((max(map_amino.value()), before + after))\n",
    "\n",
    "    for i in range(length):\n",
    "        for j in range(before):\n",
    "            matrix[map_amino[dataframe['String'][i][j]], j] += 1\n",
    "        for j in range(after):\n",
    "            matrix[map_amino[dataframe['String'][i][j + before + 1]], j + before] += 1\n",
    "\n",
    "    return matrix"
   ]
  },
  {
   "cell_type": "code",
   "execution_count": null,
   "metadata": {},
   "outputs": [],
   "source": []
  }
 ],
 "metadata": {
  "kernelspec": {
   "display_name": "ml9",
   "language": "python",
   "name": "python3"
  },
  "language_info": {
   "codemirror_mode": {
    "name": "ipython",
    "version": 3
   },
   "file_extension": ".py",
   "mimetype": "text/x-python",
   "name": "python",
   "nbconvert_exporter": "python",
   "pygments_lexer": "ipython3",
   "version": "3.9.15"
  },
  "orig_nbformat": 4
 },
 "nbformat": 4,
 "nbformat_minor": 2
}
